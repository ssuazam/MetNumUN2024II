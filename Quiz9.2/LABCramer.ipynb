{
  "nbformat": 4,
  "nbformat_minor": 0,
  "metadata": {
    "colab": {
      "provenance": [],
      "include_colab_link": true
    },
    "kernelspec": {
      "name": "python3",
      "display_name": "Python 3"
    },
    "language_info": {
      "name": "python"
    }
  },
  "cells": [
    {
      "cell_type": "markdown",
      "metadata": {
        "id": "view-in-github",
        "colab_type": "text"
      },
      "source": [
        "<a href=\"https://colab.research.google.com/github/ssuazam/MetNumUN2024II/blob/main/Quiz9.2/LABCramer.ipynb\" target=\"_parent\"><img src=\"https://colab.research.google.com/assets/colab-badge.svg\" alt=\"Open In Colab\"/></a>"
      ]
    },
    {
      "cell_type": "markdown",
      "source": [
        "### Cramer by hand\n",
        "\n",
        "$$A = \\left[\n",
        "  \\begin{array}{cc}\n",
        "1 & 2\\\\\n",
        "3 & 4\n",
        "\\end{array}\n",
        "\\right],  \n",
        "b= \\left[\n",
        "\\begin{array}{c}\n",
        "5\\\\\n",
        "6\n",
        "\\end{array}\n",
        "\\right]\n",
        "$$\n",
        "$$\n",
        "Ax =B\n",
        "$$\n",
        "$$  \n",
        "\\left[\n",
        "  \\begin{array}{cc}\n",
        "1 & 2\\\\\n",
        "3 & 4\n",
        "\\end{array}\n",
        "\\right]\n",
        "\\left[\n",
        "\\begin{array}{c}\n",
        "x_1\\\\\n",
        "x_2\n",
        "\\end{array}\n",
        "\\right]  \n",
        "=\n",
        "\\left[\n",
        "\\begin{array}{c}\n",
        "5\\\\\n",
        "6\n",
        "\\end{array}\n",
        "\\right]\n",
        "$$\n",
        "\n",
        "$$Det\\ A =  (1 * 4) - (3 * 2)  = 4 - 6 = -2$$\n",
        "\n",
        "$$A_1 = \\left[\n",
        "  \\begin{array}{cc}\n",
        "5 & 2\\\\\n",
        "6 & 4\n",
        "\\end{array}\n",
        "\\right]\n",
        "$$\n",
        "\n",
        "$$Det\\ A_1 = (5 * 4) - (6 * 2) = 20 - 12 =  8$$\n",
        "\n",
        "$$x_1 =  \\frac{Det\\ A_1}{Det\\ A}= \\frac{8}{-2} =  -4$$\n",
        "\n",
        "$$A_2 = \\left[\n",
        "  \\begin{array}{cc}\n",
        "1 & 5\\\\\n",
        "3 & 6\n",
        "\\end{array}\n",
        "\\right]\n",
        "$$\n",
        "\n",
        "$$Det\\ A_2 = (1*6) - (3*5)  = 6 -15 = -9$$\n",
        "\n",
        "$$x_2 = \\frac{Det\\ A_2}{Det\\ A}= \\frac{-9}{-2} =  \\frac{9}{2}$$"
      ],
      "metadata": {
        "id": "SUmNm2PmfHU7"
      }
    },
    {
      "cell_type": "markdown",
      "source": [
        "- ***Adding a single digit to any number requires about 7.30 bits of processing.*** - World Mental Calculation: News and Resources for Competitive and Advanced Mental Calculation https://worldmentalcalculation.com/2019/06/30/fastest-possible-processing-speed-of-the-human-brain/\n",
        "\n",
        "- ***The human brain can process 11 million bits of information every second. But our conscious minds can handle only 40 to 50 bits of information a second.*** - Understanding Unconscious Bias https://www.npr.org/2020/07/14/891140598/understanding-unconscious-bias\n",
        "\n",
        "- ***A new way to analyze human reaction times shows that the brain processes data no faster than 60 bits per second.***- New Measure of Human Brain Processing Speed https://www.technologyreview.com/2009/08/25/210267/new-measure-of-human-brain-processing-speed/\n",
        "\n",
        "\n"
      ],
      "metadata": {
        "id": "3rH8z64pk2XV"
      }
    },
    {
      "cell_type": "markdown",
      "source": [
        "# Number of operations to compute a determinant by cofactor expasion\n",
        "- Cofactor expansion https://people.math.carleton.ca/~kcheung/math/notes/MATH1107/07/07_cofactor_expansion.html\n",
        "## Definition of A(i∣j)\n",
        "Let $A$ be an $n\\times n$ matrix. Let $i,j \\in \\{1,…,n\\}$. We define $A(i∣j)$  to be the matrix obtained from $A$ by removing row $i$ and column $j$ from $A$.\n",
        "\n",
        "## Cofactor formula\n",
        "One way of computing the determinant of an $n\\times n$  matrix\n",
        "\n",
        "$$A = \\left[\n",
        "  \\begin{array}{cccc}\n",
        "a_{11} & a_{12} & \\cdots & a_{1n}\\\\\n",
        "a_{21} & a_{22} & \\cdots & a_{2n}\\\\\n",
        "\\vdots  & \\vdots & \\ddots & \\vdots\\\\\n",
        "a_{n1} & a_{n2} & \\cdots & a_{nn}\\\\\n",
        "\\end{array}\n",
        "\\right]\n",
        "$$\n",
        "is to use the following formula called the cofactor formula.\n",
        "\n",
        "Pick either any $i\\ \\in \\{1,…,n\\}$ (fixed row) or $i\\ \\in \\{1,…,n\\}$ (fixed column). Then\n",
        "\n",
        "$$\\det(A)  = \\sum_{j=1}^n (-1)^{i+j}a_{ij} \\det(A(i∣j)) $$\n",
        "\n",
        "\n",
        "$C_{i,j}= (-1)^{i+j}a_{ij} \\det(A(i∣j))$ is called a cofactor of $A$.\n",
        "\n",
        "$$\\det(A)  = \\sum_{j=1}^n C_{i,j} $$\n",
        "\n"
      ],
      "metadata": {
        "id": "CgrSIpDOnaGQ"
      }
    },
    {
      "cell_type": "code",
      "source": [
        "# Code from https://stackoverflow.com/questions/16510111/computing-determinant-of-a-matrix-nxn-recursively\n",
        "\n",
        "import numpy as np\n",
        "\n",
        "def smaller_matrix(original_matrix,row, column):\n",
        "    for ii in range(len(original_matrix)):\n",
        "        new_matrix=np.delete(original_matrix,ii,0)\n",
        "        new_matrix=np.delete(new_matrix,column,1)\n",
        "        return new_matrix\n",
        "\n",
        "\n",
        "def determinant(matrix):\n",
        "    \"\"\"Returns a determinant of a matrix by recursive method.\"\"\"\n",
        "    (r,c) = matrix.shape\n",
        "    if r != c:\n",
        "        print(\"Error!Not a square matrix!\")\n",
        "        return None\n",
        "    elif r==2:\n",
        "        simple_determinant = matrix[0][0]*matrix[1][1]-matrix[0][1]*matrix[1][0]\n",
        "        return simple_determinant\n",
        "    else:\n",
        "        answer=0\n",
        "        for j in range(r):\n",
        "            cofactor = (-1)**(0+j) * matrix[0][j] * determinant(smaller_matrix(matrix, 0, j))\n",
        "            answer+= cofactor\n",
        "        return answer"
      ],
      "metadata": {
        "id": "J-joKRBhC7eF"
      },
      "execution_count": null,
      "outputs": []
    },
    {
      "cell_type": "code",
      "source": [
        "#test the function\n",
        "#Only works for numpy.array input\n",
        "np.random.seed(1)"
      ],
      "metadata": {
        "id": "Il2pcRD4DptG"
      },
      "execution_count": null,
      "outputs": []
    },
    {
      "cell_type": "code",
      "source": [
        "n = 2\n",
        "matrix=np.random.randint(-5,5,size=(n,n))\n",
        "matrix"
      ],
      "metadata": {
        "colab": {
          "base_uri": "https://localhost:8080/"
        },
        "id": "AgKC1-aiFRW2",
        "outputId": "4a6f1d49-038f-453b-e6dc-0c86d09ce50b"
      },
      "execution_count": null,
      "outputs": [
        {
          "output_type": "execute_result",
          "data": {
            "text/plain": [
              "array([[0, 3],\n",
              "       [4, 0]])"
            ]
          },
          "metadata": {},
          "execution_count": 36
        }
      ]
    },
    {
      "cell_type": "code",
      "source": [
        "determinant(matrix)"
      ],
      "metadata": {
        "colab": {
          "base_uri": "https://localhost:8080/"
        },
        "outputId": "b6848f7f-7ea2-4237-e7eb-b7c21e0ac442",
        "id": "oI0rUp-SDptH"
      },
      "execution_count": null,
      "outputs": [
        {
          "output_type": "execute_result",
          "data": {
            "text/plain": [
              "-12"
            ]
          },
          "metadata": {},
          "execution_count": 37
        }
      ]
    },
    {
      "cell_type": "code",
      "source": [
        "np.linalg.det(matrix)"
      ],
      "metadata": {
        "colab": {
          "base_uri": "https://localhost:8080/"
        },
        "id": "iqZv7iK-KKXH",
        "outputId": "1ce580f8-fe15-4968-f59a-dabafd461420"
      },
      "execution_count": null,
      "outputs": [
        {
          "output_type": "execute_result",
          "data": {
            "text/plain": [
              "-12.0"
            ]
          },
          "metadata": {},
          "execution_count": 38
        }
      ]
    },
    {
      "cell_type": "code",
      "source": [
        "round(np.linalg.det(matrix))"
      ],
      "metadata": {
        "colab": {
          "base_uri": "https://localhost:8080/"
        },
        "id": "sY21rHM-KdlO",
        "outputId": "936f670c-4c9a-4226-83f0-7cd0b00aab62"
      },
      "execution_count": null,
      "outputs": [
        {
          "output_type": "execute_result",
          "data": {
            "text/plain": [
              "-12"
            ]
          },
          "metadata": {},
          "execution_count": 39
        }
      ]
    },
    {
      "cell_type": "code",
      "source": [
        "n = 5\n",
        "matrix=np.diag(np.random.randint(-10,10,size=(n)))\n",
        "matrix"
      ],
      "metadata": {
        "colab": {
          "base_uri": "https://localhost:8080/"
        },
        "id": "-QXGZWFIDs5k",
        "outputId": "a9471c16-ad5e-46c5-aa7f-3d3f4729da9a"
      },
      "execution_count": null,
      "outputs": [
        {
          "output_type": "execute_result",
          "data": {
            "text/plain": [
              "array([[  5,   0,   0,   0,   0],\n",
              "       [  0, -10,   0,   0,   0],\n",
              "       [  0,   0,   6,   0,   0],\n",
              "       [  0,   0,   0,  -9,   0],\n",
              "       [  0,   0,   0,   0,   2]])"
            ]
          },
          "metadata": {},
          "execution_count": 40
        }
      ]
    },
    {
      "cell_type": "code",
      "source": [
        "determinant(matrix)"
      ],
      "metadata": {
        "colab": {
          "base_uri": "https://localhost:8080/"
        },
        "id": "VP6hRwhwD-3W",
        "outputId": "47d106b5-6e20-459a-99f0-e0268d68aa19"
      },
      "execution_count": null,
      "outputs": [
        {
          "output_type": "execute_result",
          "data": {
            "text/plain": [
              "5400"
            ]
          },
          "metadata": {},
          "execution_count": 41
        }
      ]
    },
    {
      "cell_type": "code",
      "source": [
        "np.linalg.det(matrix)"
      ],
      "metadata": {
        "colab": {
          "base_uri": "https://localhost:8080/"
        },
        "id": "8NV7Zvp-KtRz",
        "outputId": "bb51090a-5d60-4a58-af1e-bb0a32901155"
      },
      "execution_count": null,
      "outputs": [
        {
          "output_type": "execute_result",
          "data": {
            "text/plain": [
              "5400.000000000003"
            ]
          },
          "metadata": {},
          "execution_count": 42
        }
      ]
    },
    {
      "cell_type": "code",
      "source": [
        "round(np.linalg.det(matrix))"
      ],
      "metadata": {
        "colab": {
          "base_uri": "https://localhost:8080/"
        },
        "id": "HXKK3weLKt5T",
        "outputId": "6efd5722-21be-4bf9-aa80-bdb4018ded28"
      },
      "execution_count": null,
      "outputs": [
        {
          "output_type": "execute_result",
          "data": {
            "text/plain": [
              "5400"
            ]
          },
          "metadata": {},
          "execution_count": 43
        }
      ]
    },
    {
      "cell_type": "code",
      "source": [
        "# Modified from the previous code\n",
        "import numpy as np\n",
        "\n",
        "# A a squared numpy matrix\n",
        "def det(A):\n",
        "    \"\"\"Returns a determinant of a matrix by recursive method.\"\"\"\n",
        "    (r,c) = A.shape\n",
        "    if r != c:\n",
        "        print(\"Error!Not a square matrix!\")\n",
        "        return None\n",
        "    elif r==1:\n",
        "          # the code with  r==2 is more efficient but we use this\n",
        "         # because the number of operations is easier to compute\n",
        "        return A[0][0]\n",
        "    else:\n",
        "        answer=0\n",
        "        for j in range(r):\n",
        "            s = 1 if (0+j)%2 == 0 else -1\n",
        "            Aij = np.delete(A,0,0)\n",
        "            Aij = np.delete(Aij,j,1)\n",
        "            cofactor = (s) * A[0][j] * det(Aij)\n",
        "            answer+= cofactor\n",
        "        return answer"
      ],
      "metadata": {
        "id": "B258g8lnBgnG"
      },
      "execution_count": null,
      "outputs": []
    },
    {
      "cell_type": "code",
      "source": [
        "#test the function\n",
        "#Only works for numpy.array input\n",
        "np.random.seed(1)"
      ],
      "metadata": {
        "id": "ZR2mjlqiGdM6"
      },
      "execution_count": null,
      "outputs": []
    },
    {
      "cell_type": "code",
      "source": [
        "n = 2\n",
        "A=np.random.randint(-5,5,size=(n,n))\n",
        "A"
      ],
      "metadata": {
        "colab": {
          "base_uri": "https://localhost:8080/"
        },
        "outputId": "f8e053ef-6f63-4732-cc0e-68dd173676be",
        "id": "jPpBCFaoGlak"
      },
      "execution_count": null,
      "outputs": [
        {
          "output_type": "execute_result",
          "data": {
            "text/plain": [
              "array([[0, 3],\n",
              "       [4, 0]])"
            ]
          },
          "metadata": {},
          "execution_count": 46
        }
      ]
    },
    {
      "cell_type": "code",
      "source": [
        "det(A)"
      ],
      "metadata": {
        "colab": {
          "base_uri": "https://localhost:8080/"
        },
        "outputId": "ca2892d8-987e-427f-c947-73ffa892820f",
        "id": "WKbuirZeGlak"
      },
      "execution_count": null,
      "outputs": [
        {
          "output_type": "execute_result",
          "data": {
            "text/plain": [
              "-12"
            ]
          },
          "metadata": {},
          "execution_count": 47
        }
      ]
    },
    {
      "cell_type": "code",
      "source": [
        "determinant(A)"
      ],
      "metadata": {
        "colab": {
          "base_uri": "https://localhost:8080/"
        },
        "id": "_B5xBFirTvQm",
        "outputId": "18f99a50-c687-4086-c75c-25e231427da8"
      },
      "execution_count": null,
      "outputs": [
        {
          "output_type": "execute_result",
          "data": {
            "text/plain": [
              "-12"
            ]
          },
          "metadata": {},
          "execution_count": 48
        }
      ]
    },
    {
      "cell_type": "code",
      "source": [
        "np.linalg.det(A)"
      ],
      "metadata": {
        "colab": {
          "base_uri": "https://localhost:8080/"
        },
        "outputId": "0c754856-639e-4433-fb02-48ece86664a2",
        "id": "bRyF2dsFLbXC"
      },
      "execution_count": null,
      "outputs": [
        {
          "output_type": "execute_result",
          "data": {
            "text/plain": [
              "-12.0"
            ]
          },
          "metadata": {},
          "execution_count": 49
        }
      ]
    },
    {
      "cell_type": "code",
      "source": [
        "round(np.linalg.det(A))"
      ],
      "metadata": {
        "colab": {
          "base_uri": "https://localhost:8080/"
        },
        "outputId": "d4b925dd-0f97-4da6-8a9a-d369f459439b",
        "id": "sOe1w9FPLbXD"
      },
      "execution_count": null,
      "outputs": [
        {
          "output_type": "execute_result",
          "data": {
            "text/plain": [
              "-12"
            ]
          },
          "metadata": {},
          "execution_count": 50
        }
      ]
    },
    {
      "cell_type": "code",
      "source": [
        "n = 10\n",
        "\n",
        "A=np.random.randint(-10,10,size=(n,n))\n",
        "\n",
        "A"
      ],
      "metadata": {
        "colab": {
          "base_uri": "https://localhost:8080/"
        },
        "outputId": "46faaa6c-d029-4710-d49d-a2a6b1401ccd",
        "id": "jzFX1soHGlak"
      },
      "execution_count": null,
      "outputs": [
        {
          "output_type": "execute_result",
          "data": {
            "text/plain": [
              "array([[  5, -10,   6,  -9,   2,  -3,   3,  -4,   8,  -5],\n",
              "       [  8,   1,   0,   4,   8,  -6,  -1,   7, -10,   3],\n",
              "       [ -1,  -1,  -3,  -9, -10,   7,  -2,   3,   9,   5],\n",
              "       [  0,  -2,  -3,  -7,  -4,   7,  -7,  -6,   7,   1],\n",
              "       [  2,   6,   3,   9,  -1,   8,   5, -10,  -6,   5],\n",
              "       [ -8,  -3,  -2,  -1,  -7,  -3,  -6,  -5,   9,  -4],\n",
              "       [ -2, -10,  -8,   0,   5,   5,  -3,   9,   0,   4],\n",
              "       [-10,  -9,   7,   3,  -7, -10,   3,  -4,  -4,  -8],\n",
              "       [  2,   1,  -3,   3,  -2,   1,   2,   1,  -6,  -3],\n",
              "       [ -3,   3,  -6,   6,   8, -10,   3,   0,   7,  -3]])"
            ]
          },
          "metadata": {},
          "execution_count": 51
        }
      ]
    },
    {
      "cell_type": "code",
      "source": [
        "import time\n",
        "\n",
        "start_time = time.time()\n",
        "d = det(A)\n",
        "end_time = time.time()"
      ],
      "metadata": {
        "id": "I97qAqxGGlak"
      },
      "execution_count": null,
      "outputs": []
    },
    {
      "cell_type": "code",
      "source": [
        "print(\"det(A): \",d)\n",
        "print(\"time: \",end_time - start_time)"
      ],
      "metadata": {
        "colab": {
          "base_uri": "https://localhost:8080/"
        },
        "id": "s7Ud-gBiTD0n",
        "outputId": "d1cd119d-e170-46c8-c4ca-ebf432b6d376"
      },
      "execution_count": null,
      "outputs": [
        {
          "output_type": "stream",
          "name": "stdout",
          "text": [
            "det(A):  29129065307\n",
            "time:  77.39920783042908\n"
          ]
        }
      ]
    },
    {
      "cell_type": "code",
      "source": [
        "import time\n",
        "\n",
        "start_time = time.time()\n",
        "d = determinant(A)\n",
        "end_time = time.time()"
      ],
      "metadata": {
        "id": "kjLXFQOeTRd2"
      },
      "execution_count": null,
      "outputs": []
    },
    {
      "cell_type": "code",
      "source": [
        "print(\"determinant(A): \",d)\n",
        "print(\"time: \",end_time - start_time)"
      ],
      "metadata": {
        "colab": {
          "base_uri": "https://localhost:8080/"
        },
        "id": "_TQFWy4ZSiDZ",
        "outputId": "fe3e5383-1786-495a-f474-7ac4cddc5b14"
      },
      "execution_count": null,
      "outputs": [
        {
          "output_type": "stream",
          "name": "stdout",
          "text": [
            "determinant(A):  29129065307\n",
            "time:  35.02712106704712\n"
          ]
        }
      ]
    },
    {
      "cell_type": "code",
      "source": [
        "import time\n",
        "\n",
        "start_time = time.time()\n",
        "d = np.linalg.det(A)\n",
        "end_time = time.time()"
      ],
      "metadata": {
        "id": "jL23i77VT55-"
      },
      "execution_count": null,
      "outputs": []
    },
    {
      "cell_type": "code",
      "source": [
        "print(\"np.linalg.det(A): \",d)\n",
        "print(\"time: \",end_time - start_time)"
      ],
      "metadata": {
        "colab": {
          "base_uri": "https://localhost:8080/"
        },
        "id": "n94nx14VT5wn",
        "outputId": "80a0d002-e9ce-4c14-9604-7b82b86c070c"
      },
      "execution_count": null,
      "outputs": [
        {
          "output_type": "stream",
          "name": "stdout",
          "text": [
            "np.linalg.det(A):  29129065306.99992\n",
            "time:  0.0003056526184082031\n"
          ]
        }
      ]
    },
    {
      "cell_type": "markdown",
      "source": [
        "# Estimating the time by instruction in Python in a Colab machine"
      ],
      "metadata": {
        "id": "Ssedt2z56DNC"
      }
    },
    {
      "cell_type": "code",
      "source": [
        "import numpy as np\n",
        "\n",
        "n = 100\n",
        "\n",
        "A = np.ones((n,n))\n",
        "\n",
        "A"
      ],
      "metadata": {
        "colab": {
          "base_uri": "https://localhost:8080/"
        },
        "id": "1KhlyeNi4uwa",
        "outputId": "daf5a3d5-616d-4811-ef88-17061a45f56b"
      },
      "execution_count": null,
      "outputs": [
        {
          "output_type": "execute_result",
          "data": {
            "text/plain": [
              "array([[1., 1., 1., ..., 1., 1., 1.],\n",
              "       [1., 1., 1., ..., 1., 1., 1.],\n",
              "       [1., 1., 1., ..., 1., 1., 1.],\n",
              "       ...,\n",
              "       [1., 1., 1., ..., 1., 1., 1.],\n",
              "       [1., 1., 1., ..., 1., 1., 1.],\n",
              "       [1., 1., 1., ..., 1., 1., 1.]])"
            ]
          },
          "metadata": {},
          "execution_count": 7
        }
      ]
    },
    {
      "cell_type": "code",
      "source": [
        "B = np.ones((n,n))\n",
        "\n",
        "B"
      ],
      "metadata": {
        "colab": {
          "base_uri": "https://localhost:8080/"
        },
        "id": "RKtHO3UY5M87",
        "outputId": "b4dfe81d-11f8-482a-d2a3-dde69af54aa0"
      },
      "execution_count": null,
      "outputs": [
        {
          "output_type": "execute_result",
          "data": {
            "text/plain": [
              "array([[1., 1., 1., ..., 1., 1., 1.],\n",
              "       [1., 1., 1., ..., 1., 1., 1.],\n",
              "       [1., 1., 1., ..., 1., 1., 1.],\n",
              "       ...,\n",
              "       [1., 1., 1., ..., 1., 1., 1.],\n",
              "       [1., 1., 1., ..., 1., 1., 1.],\n",
              "       [1., 1., 1., ..., 1., 1., 1.]])"
            ]
          },
          "metadata": {},
          "execution_count": 8
        }
      ]
    },
    {
      "cell_type": "code",
      "source": [
        "import time\n",
        "\n",
        "C= np.zeros((n,n))\n",
        "\n",
        "start_time = time.time()\n",
        "for i in range(n):\n",
        "        for j in range(n):\n",
        "            C[i][j] = 0\n",
        "            for k in range(len(A[0])):\n",
        "                C[i][j] += A[i][k] * B[k][j]\n",
        "end_time = time.time()\n",
        "print(end_time - start_time)"
      ],
      "metadata": {
        "colab": {
          "base_uri": "https://localhost:8080/"
        },
        "id": "0UFSLi-F5P0a",
        "outputId": "991b45a0-9644-42b6-f6b0-6c2d89520013"
      },
      "execution_count": null,
      "outputs": [
        {
          "output_type": "stream",
          "name": "stdout",
          "text": [
            "1.1359033584594727\n"
          ]
        }
      ]
    },
    {
      "cell_type": "code",
      "source": [],
      "metadata": {
        "id": "zQPBTmdMYSqK"
      },
      "execution_count": null,
      "outputs": []
    },
    {
      "cell_type": "code",
      "source": [
        "C"
      ],
      "metadata": {
        "colab": {
          "base_uri": "https://localhost:8080/"
        },
        "id": "h9zr4Z9P61bs",
        "outputId": "a629f0aa-0932-4128-c44f-0731d91b4b34"
      },
      "execution_count": null,
      "outputs": [
        {
          "output_type": "execute_result",
          "data": {
            "text/plain": [
              "array([[100., 100., 100., ..., 100., 100., 100.],\n",
              "       [100., 100., 100., ..., 100., 100., 100.],\n",
              "       [100., 100., 100., ..., 100., 100., 100.],\n",
              "       ...,\n",
              "       [100., 100., 100., ..., 100., 100., 100.],\n",
              "       [100., 100., 100., ..., 100., 100., 100.],\n",
              "       [100., 100., 100., ..., 100., 100., 100.]])"
            ]
          },
          "metadata": {},
          "execution_count": 11
        }
      ]
    },
    {
      "cell_type": "code",
      "source": [
        "time_by_oper_python = (end_time - start_time)/(2*n**3 - n**2)\n",
        "\n",
        "time_by_oper_python"
      ],
      "metadata": {
        "colab": {
          "base_uri": "https://localhost:8080/"
        },
        "id": "iEhaMEK77Ko7",
        "outputId": "87d9f92b-7aa0-4bb2-a6f8-3eddb5a52300"
      },
      "execution_count": null,
      "outputs": [
        {
          "output_type": "execute_result",
          "data": {
            "text/plain": [
              "5.708057077685792e-07"
            ]
          },
          "metadata": {},
          "execution_count": 22
        }
      ]
    },
    {
      "cell_type": "code",
      "source": [
        "import time\n",
        "import numpy as np\n",
        "\n",
        "start_time = time.time()\n",
        "C = A@B\n",
        "end_time = time.time()\n",
        "print(end_time - start_time)"
      ],
      "metadata": {
        "colab": {
          "base_uri": "https://localhost:8080/"
        },
        "id": "TfGsw6UF9o-a",
        "outputId": "c3be2bd3-fb0a-44f4-ea5d-fc1061d743c7"
      },
      "execution_count": null,
      "outputs": [
        {
          "output_type": "stream",
          "name": "stdout",
          "text": [
            "0.001438140869140625\n"
          ]
        }
      ]
    },
    {
      "cell_type": "code",
      "source": [
        "C"
      ],
      "metadata": {
        "colab": {
          "base_uri": "https://localhost:8080/"
        },
        "id": "Q5MtZtVT93oQ",
        "outputId": "3d766f10-d8b4-4635-8f8f-ae6f74b713a9"
      },
      "execution_count": null,
      "outputs": [
        {
          "output_type": "execute_result",
          "data": {
            "text/plain": [
              "array([[100., 100., 100., ..., 100., 100., 100.],\n",
              "       [100., 100., 100., ..., 100., 100., 100.],\n",
              "       [100., 100., 100., ..., 100., 100., 100.],\n",
              "       ...,\n",
              "       [100., 100., 100., ..., 100., 100., 100.],\n",
              "       [100., 100., 100., ..., 100., 100., 100.],\n",
              "       [100., 100., 100., ..., 100., 100., 100.]])"
            ]
          },
          "metadata": {},
          "execution_count": 17
        }
      ]
    },
    {
      "cell_type": "code",
      "source": [
        "time_by_oper_numpy = (end_time - start_time)/(2*n**3 - n**2)\n",
        "\n",
        "time_by_oper_numpy"
      ],
      "metadata": {
        "colab": {
          "base_uri": "https://localhost:8080/"
        },
        "id": "DTVYQYxT-TsJ",
        "outputId": "161f7fd8-f393-4d62-ee3c-5091895c4b32"
      },
      "execution_count": null,
      "outputs": [
        {
          "output_type": "execute_result",
          "data": {
            "text/plain": [
              "7.226838538395101e-10"
            ]
          },
          "metadata": {},
          "execution_count": 25
        }
      ]
    },
    {
      "cell_type": "markdown",
      "source": [
        "# Time estimation for the digital computer computation of a 3 x 3 matrix determinant by cofactor expansion\n",
        "\n",
        "The number of operations $(+,-,*)$ perfomed  *det(A)* algorithm that calculates\n",
        "\n",
        "$$\\det(A)  = \\sum_{j=1}^n (-1)^{i+j}a_{ij} \\det(A(i∣j)) $$\n",
        "\n",
        "is given by\n",
        "\n",
        "$$\\begin{array}{lll}\n",
        "T(n) & =&  nT(n-1) + 5n , T(1) = 1\\\\\n",
        "\\end{array}\n",
        "$$\n",
        "\n",
        "$$\\begin{array}{lll}\n",
        "T(n) & =&  nT(n-1) + 5n\\\\\n",
        "     & =&  n[(n-1) T(n-2) + 5 (n-1) +10] + 5n  \\\\\n",
        "     & =&  n(n-1) T(n-2) + 5 n  (n-1) + 5n \\\\\n",
        "     & =&  n(n-1) [(n-2) T(n-3) + 5 (n-2)] + 5 n(n-1) + 5n\\\\\n",
        "     & = & n(n-1)(n-2) T(n-3) + 5n(n-1)(n-2)+  5 n  (n-1) + 5n \\\\\n",
        "     & \\vdots\\\\\n",
        "     & = &  n(n-1)(n-2)\\cdots (n -(n-2))  T(1) + [5n(n-1)(n-2)(n-3)\\cdots (n -(n-3))] + \\cdots + [5 n (n-1)]+ 5n \\\\\n",
        "    & = & n! + [5n(n-1)(n-2)(n-3)\\cdots 2] + [5n(n-1)(n-2)(n-3)\\cdots 3]+ \\cdots +[5 n (n-1) (n-3)] + [5 n (n-1)]+ 5n  \n",
        "\\end{array}\n",
        "$$\n",
        "\n",
        "$$T(n) = n! + 5 \\sum_{i=0}^{n-1} n!/i! = n! + 5 n!\\sum_{i=0}^{n-1} \\frac{1}{i!} < n! + 5 e n! < 16 n!  $$\n",
        "\n",
        "1. Asumming that an arithmetic operation takes the *time_by_oper_python* estimated before,  what is the maximun square matrix size for which the deteminant can be computed with cofactor extesion in $\\le$ 3 minute. Report the time at [LABCramer](https://docs.google.com/spreadsheets/d/1JNUbuj3QHcyPmp8i6kNreUFucj2mOvKHkCFHHy7zfws/edit?usp=sharing).\n",
        "\n",
        "2. Run an experiment with a random matrix of that size and report the time at [LABCramer](https://docs.google.com/spreadsheets/d/1JNUbuj3QHcyPmp8i6kNreUFucj2mOvKHkCFHHy7zfws/edit?usp=sharing).\n",
        "\n",
        "If the determinant of a $n \\times n$ square matrix takes $16 n!$ operations how much takes the Crammer solution of $n \\times n$ systems of linear equations?\n",
        "\n",
        "\n",
        "\n",
        "\n"
      ],
      "metadata": {
        "id": "PhAai3wzo_Tc"
      }
    },
    {
      "cell_type": "code",
      "source": [
        "import math\n",
        "\n",
        "\n",
        "time_by_oper_python = 1e-6\n",
        "\n",
        "\n",
        "time_limit = 180\n",
        "\n",
        "\n",
        "n = 1\n",
        "while 16 * math.factorial(n) * time_by_oper_python <= time_limit:\n",
        "    n += 1\n",
        "\n",
        "n_max = n - 1\n",
        "print(f\"El tamaño máximo de la matriz para calcular el determinante en 3 minutos es n = {n_max}\")\n"
      ],
      "metadata": {
        "id": "EKwkuUuiDobj",
        "colab": {
          "base_uri": "https://localhost:8080/"
        },
        "outputId": "d987b45b-9d16-4bca-efa8-f7a028c0e4db"
      },
      "execution_count": 1,
      "outputs": [
        {
          "output_type": "stream",
          "name": "stdout",
          "text": [
            "El tamaño máximo de la matriz para calcular el determinante en 3 minutos es n = 10\n"
          ]
        }
      ]
    },
    {
      "cell_type": "code",
      "source": [
        "import numpy as np\n",
        "import time\n",
        "\n",
        "def determinant_cofactor(matrix):\n",
        "    \"\"\" Calcula el determinante de una matriz usando expansión por cofactores \"\"\"\n",
        "    n = len(matrix)\n",
        "    if n == 1:\n",
        "        return matrix[0, 0]\n",
        "    elif n == 2:\n",
        "        return matrix[0, 0] * matrix[1, 1] - matrix[0, 1] * matrix[1, 0]\n",
        "\n",
        "    det = 0\n",
        "    for j in range(n):\n",
        "        sub_matrix = np.delete(np.delete(matrix, 0, axis=0), j, axis=1)\n",
        "        det += ((-1) ** j) * matrix[0, j] * determinant_cofactor(sub_matrix)\n",
        "\n",
        "    return det\n",
        "\n",
        "np.random.seed(42)  #\n",
        "matrix_size = n_max\n",
        "A = np.random.randint(-10, 10, size=(matrix_size, matrix_size))\n",
        "\n",
        "\n",
        "start_time = time.time()\n",
        "det_A = determinant_cofactor(A)\n",
        "end_time = time.time()\n",
        "\n",
        "print(f\"Determinante calculado: {det_A}\")\n",
        "print(f\"Tiempo de cálculo: {end_time - start_time:.4f} segundos\")\n"
      ],
      "metadata": {
        "colab": {
          "base_uri": "https://localhost:8080/"
        },
        "id": "Exm7zQI_EM-3",
        "outputId": "c5b0d019-0959-4aaa-f1f2-11f0ebf2c5f7"
      },
      "execution_count": 2,
      "outputs": [
        {
          "output_type": "stream",
          "name": "stdout",
          "text": [
            "Determinante calculado: -40914121543\n",
            "Tiempo de cálculo: 26.4175 segundos\n"
          ]
        }
      ]
    },
    {
      "cell_type": "code",
      "source": [
        "def time_cramer(n, time_by_oper):\n",
        "    \"\"\" Calcula el tiempo estimado para resolver un sistema de ecuaciones con la regla de Cramer \"\"\"\n",
        "    operations = (n + 1) * 16 * math.factorial(n)\n",
        "    return operations * time_by_oper\n",
        "\n",
        "for n in range(1, n_max + 1):\n",
        "    estimated_time = time_cramer(n, time_by_oper_python)\n",
        "    print(f\"Para un sistema de {n}x{n}, el tiempo estimado con Cramer es {estimated_time:.4f} segundos\")\n"
      ],
      "metadata": {
        "colab": {
          "base_uri": "https://localhost:8080/"
        },
        "id": "gtc0oUyfEoFY",
        "outputId": "77bee59e-5539-4eac-82eb-e7e14150d47a"
      },
      "execution_count": 3,
      "outputs": [
        {
          "output_type": "stream",
          "name": "stdout",
          "text": [
            "Para un sistema de 1x1, el tiempo estimado con Cramer es 0.0000 segundos\n",
            "Para un sistema de 2x2, el tiempo estimado con Cramer es 0.0001 segundos\n",
            "Para un sistema de 3x3, el tiempo estimado con Cramer es 0.0004 segundos\n",
            "Para un sistema de 4x4, el tiempo estimado con Cramer es 0.0019 segundos\n",
            "Para un sistema de 5x5, el tiempo estimado con Cramer es 0.0115 segundos\n",
            "Para un sistema de 6x6, el tiempo estimado con Cramer es 0.0806 segundos\n",
            "Para un sistema de 7x7, el tiempo estimado con Cramer es 0.6451 segundos\n",
            "Para un sistema de 8x8, el tiempo estimado con Cramer es 5.8061 segundos\n",
            "Para un sistema de 9x9, el tiempo estimado con Cramer es 58.0608 segundos\n",
            "Para un sistema de 10x10, el tiempo estimado con Cramer es 638.6688 segundos\n"
          ]
        }
      ]
    },
    {
      "cell_type": "markdown",
      "source": [
        "# Time estimation for the human computer computation of a 3 x 3 matrix determinant by cofactor expansion\n",
        "\n",
        " Write a 3 x 3 matrix with the first element as your list number Mod 10 and the rest row by row 1,2,3,...9 skipimg the first element, by example if youir list number is 12, your list number Mod 10 is 2 and the matrix is\n",
        "$$A = \\left[\n",
        "  \\begin{array}{ccc}\n",
        "2 & 1 & 3\\\\\n",
        "4 & 5 & 6\\\\\n",
        "7 & 8 & 9\\\\\n",
        "\\end{array}\n",
        "\\right]\n",
        "$$\n",
        "Use a chronometer like http://online-stopwatch.chronme.com/ to estimate the time to compute the determinant by using the procedure in the follo wing exmaple (https://people.math.carleton.ca/~kcheung/math/notes/MATH1107/07/07_cofactor_expansion.html):<br />  \n",
        "Let\n",
        "$$A = \\begin{bmatrix} 10 & 2 & 3\\\\ 4 & 5 & 6\\\\ 7 & 8 & 9 \\end{bmatrix}$$\n",
        "we compute $\\det(A)$ by expanding along row $2$ as <br /> <br />\n",
        "$$\\begin{eqnarray} \\det(A) & = & (-1)^{2+1}A_{2,1}\\det(A(2 \\mid 1)) + (-1)^{2+2}A_{2,2}\\det(A(2 \\mid 2)) + (-1)^{2+3}A_{2,3}\\det(A(2 \\mid 3)) \\\\ & = & -4\\left|\\begin{matrix} 2 & 3 \\\\ 8 & 9\\end{matrix}\\right| + 5\\left|\\begin{matrix} 10 & 3 \\\\ 7 & 9\\end{matrix}\\right| - 6\\left|\\begin{matrix} 10 & 2 \\\\ 7 & 8\\end{matrix}\\right| \\\\ & = & -4(2\\cdot 9 - 3\\cdot 8) + 5(10 \\cdot 9- 3\\cdot 7) - 6(10\\cdot 8 - 2 \\cdot 7) \\\\ & = & 24 + 345 - 396 \\\\ & = & -27\\end{eqnarray}$$\n",
        "\n",
        "3. Report the time at [LABCramer](https://docs.google.com/spreadsheets/d/1JNUbuj3QHcyPmp8i6kNreUFucj2mOvKHkCFHHy7zfws/edit?usp=sharing)\n",
        "4. Report the value of the determinant at [LABCramer](https://docs.google.com/spreadsheets/d/1JNUbuj3QHcyPmp8i6kNreUFucj2mOvKHkCFHHy7zfws/edit?usp=sharing)\n",
        "\n",
        "The one grading verifies with with [matrixcalc](https://matrixcalc.org)\n",
        "\n",
        "The number of operations that we as a human requird to caculate this 3x3 matrix determinat using cofactors is 17.\n",
        "- The number of operations to caculate each cofactor is 5:  1 addition (row + column)  + 1 sign verification (if row + column is even positive and negtive otherwise) + 2 multiplications  + 1 substraction.\n",
        "- The number operations to calculate the 3 cofactors is 3x5 = 15.\n",
        "- To add the 3 cofactores we need (2 additions).\n",
        "- So the total is 3x5 + 2  = 17.\n",
        "\n",
        "\n",
        "\n"
      ],
      "metadata": {
        "id": "__brdhGadAXY"
      }
    },
    {
      "cell_type": "markdown",
      "source": [
        "# Cálculo del determinante de una matriz 3x3 mediante expansión por cofactores\n",
        "\n",
        "Sea la matriz:\n",
        "\n",
        "$$\n",
        "A = \\begin{bmatrix}\n",
        "6 & 1 & 2 \\\\\n",
        "3 & 5 & 6 \\\\\n",
        "7 & 8 & 9\n",
        "\\end{bmatrix}\n",
        "$$\n",
        "\n",
        "\n",
        "\n",
        "$$\n",
        "\\det(A) = (-1)^{2+1} A_{2,1} \\det(A_{(2|1)}) + (-1)^{2+2} A_{2,2} \\det(A_{(2|2)}) + (-1)^{2+3} A_{2,3} \\det(A_{(2|3)})\n",
        "$$\n",
        "\n",
        "\n",
        "\n",
        "$$\n",
        "A_{(2|1)} = \\begin{bmatrix} 1 & 2 \\\\ 8 & 9 \\end{bmatrix}, \\quad\n",
        "\\det(A_{(2|1)}) = (1)(9) - (2)(8) = 9 - 16 = -7\n",
        "$$\n",
        "\n",
        "$$\n",
        "A_{(2|2)} = \\begin{bmatrix} 6 & 2 \\\\ 7 & 9 \\end{bmatrix}, \\quad\n",
        "\\det(A_{(2|2)}) = (6)(9) - (2)(7) = 54 - 14 = 40\n",
        "$$\n",
        "\n",
        "$$\n",
        "A_{(2|3)} = \\begin{bmatrix} 6 & 1 \\\\ 7 & 8 \\end{bmatrix}, \\quad\n",
        "\\det(A_{(2|3)}) = (6)(8) - (1)(7) = 48 - 7 = 41\n",
        "$$\n",
        "\n",
        "\n",
        "\n",
        "$$\n",
        "\\det(A) = (-1)^3 (3)(-7) + (-1)^4 (5)(40) + (-1)^5 (6)(41)\n",
        "$$\n",
        "\n",
        "$$\n",
        "\\det(A) = (-3)(-7) + (5)(40) + (-6)(41)\n",
        "$$\n",
        "\n",
        "$$\n",
        "\\det(A) = 21 + 200 - 246\n",
        "$$\n",
        "\n",
        "$$\n",
        "\\det(A) = -25\n",
        "$$\n",
        "\n",
        "\n",
        "\n"
      ],
      "metadata": {
        "id": "0xGLZ6eYF2Ml"
      }
    },
    {
      "cell_type": "markdown",
      "source": [
        "![Imagen de WhatsApp 2025-03-03 a las 17.39.16_9e419640.jpg](data:image/jpeg;base64,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)"
      ],
      "metadata": {
        "id": "_Ui0vUlcJw_y"
      }
    }
  ]
}